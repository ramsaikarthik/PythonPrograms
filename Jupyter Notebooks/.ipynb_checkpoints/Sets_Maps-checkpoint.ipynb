{
 "cells": [
  {
   "cell_type": "code",
   "execution_count": 13,
   "id": "desperate-bowling",
   "metadata": {},
   "outputs": [
    {
     "name": "stdout",
     "output_type": "stream",
     "text": [
      "<class 'set'>\n",
      "<class 'tuple'>\n",
      "<class 'set'>\n"
     ]
    }
   ],
   "source": [
    "# Using {} stores the item as set\n",
    "# Using () stores the item as tuple\n",
    "# Using [] stores the item as List\n",
    "\n",
    "days = set([\"Mon\",\"Tue\",\"Wed\",\"Thu\",\"Fri\",\"Sat\",\"Sun\"])\n",
    "months = (\"Jan\",\"Feb\",\"Mar\")\n",
    "dates = {'21','22','23'}\n",
    "print(type(days))\n",
    "print(type(months))\n",
    "print(type(dates))"
   ]
  },
  {
   "cell_type": "code",
   "execution_count": 27,
   "id": "written-swedish",
   "metadata": {},
   "outputs": [
    {
     "name": "stdout",
     "output_type": "stream",
     "text": [
      "{'Mon', 'Fri', 'Wed', 'Tue', '23', '22', 'Sun', '21', 'Thu', 'Sat'}\n",
      "Alpha Mon\n",
      "Alpha Fri\n",
      "Alpha Wed\n",
      "Alpha Tue\n",
      "Numeric 23\n",
      "Numeric 22\n",
      "Alpha Sun\n",
      "Numeric 21\n",
      "Alpha Thu\n",
      "Alpha Sat\n"
     ]
    }
   ],
   "source": [
    "days = days.union(dates)\n",
    "print(days)\n",
    "\n",
    "for d in days:\n",
    "    if d.isalpha():\n",
    "        print(\"Alpha\", d)\n",
    "    else:\n",
    "        print(\"Numeric\", d)"
   ]
  },
  {
   "cell_type": "code",
   "execution_count": null,
   "id": "exciting-creator",
   "metadata": {},
   "outputs": [],
   "source": []
  }
 ],
 "metadata": {
  "kernelspec": {
   "display_name": "Python 3",
   "language": "python",
   "name": "python3"
  },
  "language_info": {
   "codemirror_mode": {
    "name": "ipython",
    "version": 3
   },
   "file_extension": ".py",
   "mimetype": "text/x-python",
   "name": "python",
   "nbconvert_exporter": "python",
   "pygments_lexer": "ipython3",
   "version": "3.6.8"
  }
 },
 "nbformat": 4,
 "nbformat_minor": 5
}
