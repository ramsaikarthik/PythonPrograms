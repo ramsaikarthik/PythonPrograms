{
 "cells": [
  {
   "cell_type": "code",
   "execution_count": 1,
   "id": "desperate-bowling",
   "metadata": {},
   "outputs": [
    {
     "name": "stdout",
     "output_type": "stream",
     "text": [
      "<class 'set'>\n",
      "<class 'tuple'>\n",
      "<class 'set'>\n"
     ]
    }
   ],
   "source": [
    "# Using {} stores the item as set\n",
    "# Using () stores the item as tuple\n",
    "# Using [] stores the item as List\n",
    "\n",
    "days = set([\"Mon\",\"Tue\",\"Wed\",\"Thu\",\"Fri\",\"Sat\",\"Sun\"])\n",
    "months = (\"Jan\",\"Feb\",\"Mar\")\n",
    "dates = {'21','22','23'}\n",
    "print(type(days))\n",
    "print(type(months))\n",
    "print(type(dates))"
   ]
  },
  {
   "cell_type": "code",
   "execution_count": 2,
   "id": "written-swedish",
   "metadata": {},
   "outputs": [
    {
     "name": "stdout",
     "output_type": "stream",
     "text": [
      "{'22', 'Sat', 'Tue', '21', 'Thu', '23', 'Mon', 'Sun', 'Fri', 'Wed'}\n",
      "Numeric 22\n",
      "Alpha Sat\n",
      "Alpha Tue\n",
      "Numeric 21\n",
      "Alpha Thu\n",
      "Numeric 23\n",
      "Alpha Mon\n",
      "Alpha Sun\n",
      "Alpha Fri\n",
      "Alpha Wed\n"
     ]
    }
   ],
   "source": [
    "days = days.union(dates)\n",
    "print(days)\n",
    "\n",
    "for d in days:\n",
    "    if d.isalpha():\n",
    "        print(\"Alpha\", d)\n",
    "    else:\n",
    "        print(\"Numeric\", d)"
   ]
  },
  {
   "cell_type": "code",
   "execution_count": null,
   "id": "exciting-creator",
   "metadata": {},
   "outputs": [],
   "source": []
  }
 ],
 "metadata": {
  "kernelspec": {
   "display_name": "Python 3 (ipykernel)",
   "language": "python",
   "name": "python3"
  },
  "language_info": {
   "codemirror_mode": {
    "name": "ipython",
    "version": 3
   },
   "file_extension": ".py",
   "mimetype": "text/x-python",
   "name": "python",
   "nbconvert_exporter": "python",
   "pygments_lexer": "ipython3",
   "version": "3.10.6"
  }
 },
 "nbformat": 4,
 "nbformat_minor": 5
}
