{
 "cells": [
  {
   "cell_type": "code",
   "execution_count": 1,
   "id": "roman-rental",
   "metadata": {},
   "outputs": [
    {
     "name": "stdout",
     "output_type": "stream",
     "text": [
      "Hello world...!!!\n"
     ]
    }
   ],
   "source": [
    "print(\"Hello world...!!!\")"
   ]
  },
  {
   "cell_type": "code",
   "execution_count": 2,
   "id": "meaningful-hobby",
   "metadata": {},
   "outputs": [
    {
     "name": "stdout",
     "output_type": "stream",
     "text": [
      "array('i', [1, 2, 3, 4, 5])\n",
      "array('i', [1, 2, 20, 3, 4, 5])\n"
     ]
    }
   ],
   "source": [
    "import array as arr\n",
    "a = arr.array('i',[1,2,3,4])\n",
    "a.append(5)\n",
    "print(a)\n",
    "a.insert(2,20)\n",
    "print(a)"
   ]
  },
  {
   "cell_type": "code",
   "execution_count": 3,
   "id": "pursuant-cartridge",
   "metadata": {},
   "outputs": [
    {
     "name": "stdout",
     "output_type": "stream",
     "text": [
      "1\n"
     ]
    }
   ],
   "source": [
    "list1 = [1,2,3,4]\n",
    "print(list1[0])"
   ]
  },
  {
   "cell_type": "code",
   "execution_count": 4,
   "id": "widespread-subdivision",
   "metadata": {},
   "outputs": [
    {
     "name": "stdout",
     "output_type": "stream",
     "text": [
      "First element is:  1\n",
      "Second element is:  2\n",
      "Third element is:  20\n"
     ]
    }
   ],
   "source": [
    "print('First element is: ',a[0])\n",
    "print('Second element is: ',a[1])\n",
    "print('Third element is: ',a[2])"
   ]
  },
  {
   "cell_type": "code",
   "execution_count": 5,
   "id": "boxed-kingston",
   "metadata": {},
   "outputs": [
    {
     "data": {
      "text/plain": [
       "int"
      ]
     },
     "execution_count": 5,
     "metadata": {},
     "output_type": "execute_result"
    }
   ],
   "source": [
    "type(a[2])"
   ]
  },
  {
   "cell_type": "code",
   "execution_count": null,
   "id": "major-transition",
   "metadata": {},
   "outputs": [],
   "source": []
  }
 ],
 "metadata": {
  "kernelspec": {
   "display_name": "Python 3",
   "language": "python",
   "name": "python3"
  },
  "language_info": {
   "codemirror_mode": {
    "name": "ipython",
    "version": 3
   },
   "file_extension": ".py",
   "mimetype": "text/x-python",
   "name": "python",
   "nbconvert_exporter": "python",
   "pygments_lexer": "ipython3",
   "version": "3.6.8"
  }
 },
 "nbformat": 4,
 "nbformat_minor": 5
}
