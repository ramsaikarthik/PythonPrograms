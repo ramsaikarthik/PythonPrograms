{
 "cells": [
  {
   "cell_type": "code",
   "execution_count": 1,
   "id": "linear-request",
   "metadata": {},
   "outputs": [
    {
     "name": "stdout",
     "output_type": "stream",
     "text": [
      "Python 3.10.6\n"
     ]
    }
   ],
   "source": [
    "!python --version"
   ]
  },
  {
   "cell_type": "code",
   "execution_count": 16,
   "id": "ac2f7eec",
   "metadata": {},
   "outputs": [
    {
     "data": {
      "text/plain": [
       "{10, 20, 30, 40, 50, 60, 70}"
      ]
     },
     "execution_count": 16,
     "metadata": {},
     "output_type": "execute_result"
    }
   ],
   "source": [
    "#Update set1 by adding items from set2, except common items\n",
    "\n",
    "set1 = {10, 20, 30, 40, 50}\n",
    "set2 = {30, 40, 50, 60, 70}\n",
    "\n",
    "symm_set = set1.symmetric_difference(set2)\n",
    "set2_diff_ele = symm_set.difference(set1)\n",
    "finalSet = set1.union(set2_diff_ele)\n",
    "finalSet"
   ]
  },
  {
   "cell_type": "code",
   "execution_count": 32,
   "id": "f1215c7b",
   "metadata": {},
   "outputs": [
    {
     "name": "stdout",
     "output_type": "stream",
     "text": [
      "dict_keys(['name', 'age', 'salary', 'city'])\n",
      "dict_values(['kelly', 25, 5000, 'NewYork'])\n",
      "None\n",
      "{'name': 'kelly', 'age': 25, 'salary': 5000, 'city': 'Hyd'}\n",
      "{'name': 'kelly', 'age': 25, 'salary': 5000, 'Location': 'Hyd'}\n"
     ]
    }
   ],
   "source": [
    "#Rename key city to location in the following dictionary\n",
    "\n",
    "sampleDict = {\n",
    "    \"name\": \"kelly\",\n",
    "    \"age\": 25,\n",
    "    \"salary\": 5000,\n",
    "    \"city\": \"NewYork\"\n",
    "}\n",
    "\n",
    "updateDict = {\"city\":\"Hyd\"}\n",
    "\n",
    "print(sampleDict.keys())\n",
    "print(sampleDict.values())\n",
    "print(sampleDict.update(updateDict))\n",
    "print(sampleDict)\n",
    "\n",
    "#Now update the key value to other value\n",
    "sampleDict['Location'] = sampleDict.pop('city')\n",
    "\n",
    "print(sampleDict)"
   ]
  },
  {
   "cell_type": "code",
   "execution_count": 39,
   "id": "becaaf6e",
   "metadata": {},
   "outputs": [
    {
     "name": "stdout",
     "output_type": "stream",
     "text": [
      "{'name': 'Brad', 'salary': 4000}\n",
      "{'employee1': {'name': 'Ram Sai Karthik', 'salary': 10000}, 'employee2': {'name': 'Brad', 'salary': 10500}}\n"
     ]
    }
   ],
   "source": [
    "#Change Brad's salary to 10,500 from a given Python Dictionary\n",
    "\n",
    "dict1 = {\n",
    "    'employee1': {'name':'Ram Sai Karthik', 'salary':10000},\n",
    "    'employee2': {'name': 'Brad', 'salary': 4000}\n",
    "}\n",
    "\n",
    "print(dict1['employee2'])\n",
    "dict1['employee2']['salary'] = 10500\n",
    "print(dict1) "
   ]
  }
 ],
 "metadata": {
  "kernelspec": {
   "display_name": "Python 3 (ipykernel)",
   "language": "python",
   "name": "python3"
  },
  "language_info": {
   "codemirror_mode": {
    "name": "ipython",
    "version": 3
   },
   "file_extension": ".py",
   "mimetype": "text/x-python",
   "name": "python",
   "nbconvert_exporter": "python",
   "pygments_lexer": "ipython3",
   "version": "3.10.6"
  }
 },
 "nbformat": 4,
 "nbformat_minor": 5
}
