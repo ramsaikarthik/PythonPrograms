{
 "cells": [
  {
   "cell_type": "markdown",
   "id": "a74c0503",
   "metadata": {},
   "source": [
    "# Object Oriented Programming"
   ]
  },
  {
   "cell_type": "code",
   "execution_count": 2,
   "id": "a57548f2",
   "metadata": {},
   "outputs": [
    {
     "name": "stdout",
     "output_type": "stream",
     "text": [
      "Name is:  Ram\n",
      "Name is:  Anish\n"
     ]
    }
   ],
   "source": [
    "student1 = ['Ram', 26, 'Data Engineer']\n",
    "student2 = ['Anish', 31, 'Data Analyst']\n",
    "student3 = ['Jerry', 29, 'Senior Data Engineer']\n",
    "\n",
    "print(\"Name is: \", student1[0])\n",
    "print(\"Name is: \", student2[0])"
   ]
  },
  {
   "cell_type": "code",
   "execution_count": 10,
   "id": "2c25ee9b",
   "metadata": {},
   "outputs": [
    {
     "name": "stdout",
     "output_type": "stream",
     "text": [
      "Name is:  Ram , Age is:  26 , Role is:  Data Engineer\n",
      "Ram\n",
      "26\n",
      "Name is:  Jerry , Age is:  29 , Role is:  Senior Data Engineer\n",
      "Jerry\n",
      "29\n"
     ]
    }
   ],
   "source": [
    "#Without OOPS\n",
    "\n",
    "def ceatePerson(student):\n",
    "    #Creating global variables such that they are accessible outside the scope of function\n",
    "    global name, age, role\n",
    "    name = student[0]\n",
    "    age = student[1]\n",
    "    role = student[2]\n",
    "    \n",
    "    print(\"Name is: \", name, \", Age is: \", age, \", Role is: \", role)\n",
    "    \n",
    "\n",
    "createPerson(['Ram', 26, 'Data Engineer'])\n",
    "print(name)\n",
    "print(age)\n",
    "createPerson(['Jerry', 29, 'Senior Data Engineer'])\n",
    "print(name)\n",
    "print(age)\n",
    "\n",
    "\n",
    "#In the above scenario the variables name and age are getting overridden."
   ]
  },
  {
   "cell_type": "code",
   "execution_count": 47,
   "id": "1aacab16",
   "metadata": {},
   "outputs": [],
   "source": [
    "#With OOPS\n",
    "\n",
    "count=0\n",
    "\n",
    "class Person:\n",
    "    def create_Person(self, person):\n",
    "        self.name = person[0]\n",
    "        self.age = person[1]\n",
    "        self.role = person[2]\n",
    "        #count = count+1\n",
    "        print('The Person '+self.name+ ' has been created')\n",
    "        \n",
    "    def displayPerson(self):\n",
    "        print('The name of person is: '+self.name+ ', the age of person is: ' +str(self.age)+ ', the role is: ',self.role)\n",
    "        \n",
    "\n",
    "#Creating the objects\n",
    "mansi = Person()\n",
    "neha = Person()\n",
    "kanika = Person()"
   ]
  },
  {
   "cell_type": "code",
   "execution_count": 52,
   "id": "773d388d",
   "metadata": {},
   "outputs": [
    {
     "name": "stdout",
     "output_type": "stream",
     "text": [
      "The Person Ram has been created\n",
      "The name of person is: Ram, the age of person is: 26, the role is:  Data Engineer\n",
      "---------------------------------------------------------------------------\n",
      "The Person Anish has been created\n",
      "The name of person is: Anish, the age of person is: 31, the role is:  Data Analyst\n",
      "---------------------------------------------------------------------------\n",
      "The Person Jerry has been created\n",
      "The name of person is: Jerry, the age of person is: 29, the role is:  Senior Data Engineer\n",
      "---------------------------------------------------------------------------\n",
      "Data Engineer\n",
      "Senior Data Engineer\n"
     ]
    }
   ],
   "source": [
    "mansi.create_Person(student1)\n",
    "mansi.displayPerson()\n",
    "print('-'*75)\n",
    "neha.create_Person(student2)\n",
    "neha.displayPerson()\n",
    "print('-'*75)\n",
    "kanika.create_Person(student3)\n",
    "kanika.displayPerson()\n",
    "print('-'*75)\n",
    "print(mansi.role)\n",
    "print(kanika.role)"
   ]
  },
  {
   "cell_type": "code",
   "execution_count": 55,
   "id": "25a22b3a",
   "metadata": {},
   "outputs": [
    {
     "name": "stdout",
     "output_type": "stream",
     "text": [
      "<class '__main__.Sample'>\n"
     ]
    }
   ],
   "source": [
    "class Sample:\n",
    "    pass\n",
    "\n",
    "x = Sample()\n",
    "print(type(x))"
   ]
  },
  {
   "cell_type": "code",
   "execution_count": null,
   "id": "91499a73",
   "metadata": {},
   "outputs": [],
   "source": []
  }
 ],
 "metadata": {
  "kernelspec": {
   "display_name": "Python 3 (ipykernel)",
   "language": "python",
   "name": "python3"
  },
  "language_info": {
   "codemirror_mode": {
    "name": "ipython",
    "version": 3
   },
   "file_extension": ".py",
   "mimetype": "text/x-python",
   "name": "python",
   "nbconvert_exporter": "python",
   "pygments_lexer": "ipython3",
   "version": "3.10.6"
  }
 },
 "nbformat": 4,
 "nbformat_minor": 5
}
